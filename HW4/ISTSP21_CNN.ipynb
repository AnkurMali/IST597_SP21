{
  "nbformat": 4,
  "nbformat_minor": 0,
  "metadata": {
    "colab": {
      "name": "ISTSP21_CNN.ipynb",
      "provenance": [],
      "collapsed_sections": [],
      "authorship_tag": "ABX9TyNi7bc2RGxDYUpNQmNbYuY4",
      "include_colab_link": true
    },
    "kernelspec": {
      "name": "python3",
      "display_name": "Python 3"
    }
  },
  "cells": [
    {
      "cell_type": "markdown",
      "metadata": {
        "id": "view-in-github",
        "colab_type": "text"
      },
      "source": [
        "<a href=\"https://colab.research.google.com/github/AnkurMali/IST597_SP21/blob/main/ISTSP21_CNN.ipynb\" target=\"_parent\"><img src=\"https://colab.research.google.com/assets/colab-badge.svg\" alt=\"Open In Colab\"/></a>"
      ]
    },
    {
      "cell_type": "code",
      "metadata": {
        "id": "ybR3TTtfv3Tu"
      },
      "source": [
        "import tensorflow as tf\n",
        "import numpy as np\n",
        "import matplotlib.pyplot as plt\n",
        "\n",
        "np.random.seed(1234)\n"
      ],
      "execution_count": 2,
      "outputs": []
    },
    {
      "cell_type": "code",
      "metadata": {
        "colab": {
          "base_uri": "https://localhost:8080/"
        },
        "id": "DEkngY4pzAcd",
        "outputId": "145ef2aa-48f5-44c1-e0e0-cce1d39d3810"
      },
      "source": [
        "(x_train, y_train), (x_test, y_test) = tf.keras.datasets.mnist.load_data()\n",
        "x_train = x_train.astype(np.float32).reshape(-1,28,28,1) / 255.0\n",
        "x_test = x_test.astype(np.float32).reshape(-1,28,28,1) / 255.0\n",
        "y_train = tf.one_hot(y_train, depth=10)\n",
        "y_test = tf.one_hot(y_test, depth=10)\n",
        "print(x_train.shape)\n",
        "train_dataset = tf.data.Dataset.from_tensor_slices((x_train, y_train))\n",
        "train_dataset = train_dataset.shuffle(buffer_size=1024).batch(128)\n",
        "train_dataset_full = train_dataset.shuffle(buffer_size=1024).batch(len(train_dataset))\n",
        "test_dataset = tf.data.Dataset.from_tensor_slices((x_test, y_test))\n",
        "test_dataset = test_dataset.batch(len(test_dataset))\n",
        "# batch_size, channel, h ,w or \n",
        "# batch_size, h,w, channel"
      ],
      "execution_count": 3,
      "outputs": [
        {
          "output_type": "stream",
          "text": [
            "Downloading data from https://storage.googleapis.com/tensorflow/tf-keras-datasets/mnist.npz\n",
            "11493376/11490434 [==============================] - 0s 0us/step\n",
            "(60000, 28, 28, 1)\n"
          ],
          "name": "stdout"
        }
      ]
    },
    {
      "cell_type": "code",
      "metadata": {
        "id": "lursmSsixIyq"
      },
      "source": [
        "class ImageRecognitionCNN(tf.keras.Model):\n",
        "    \n",
        "    def __init__(self, num_classes, device='cpu:0', checkpoint_directory=None):\n",
        "        ''' Define the parameterized layers used during forward-pass, the device\n",
        "            where you would like to run the computation (GPU, TPU, CPU) on and the checkpoint\n",
        "            directory.\n",
        "            \n",
        "            Args:\n",
        "                num_classes: the number of labels in the network.\n",
        "                device: string, 'cpu:n' or 'gpu:n' (n can vary). Default, 'cpu:0'.\n",
        "                checkpoint_directory: the directory where you would like to save or \n",
        "                                      restore a model.\n",
        "        ''' \n",
        "        super(ImageRecognitionCNN, self).__init__()\n",
        "        \n",
        "        # Initialize layers\n",
        "        self.conv1 = tf.keras.layers.Conv2D(16, 5, padding='same', activation=None)\n",
        "        self.batch1 = tf.keras.layers.BatchNormalization()\n",
        "        self.conv2 = tf.keras.layers.Conv2D(16, 5, 2, padding='same', activation=None)\n",
        "        self.batch2 = tf.keras.layers.BatchNormalization()\n",
        "        self.conv3 = tf.keras.layers.Conv2D(32, 5, padding='same', activation=None)\n",
        "        self.batch3 = tf.keras.layers.BatchNormalization()\n",
        "        self.conv4 = tf.keras.layers.Conv2D(32, 5, 2, padding='same', activation=None)\n",
        "        self.batch4 = tf.keras.layers.BatchNormalization()\n",
        "        self.conv5 = tf.keras.layers.Conv2D(64, 3, padding='same', activation=None)\n",
        "        self.batch5 = tf.keras.layers.BatchNormalization()\n",
        "        self.conv6 = tf.keras.layers.Conv2D(64, 3, 2, padding='same', activation=None)\n",
        "        self.batch6 = tf.keras.layers.BatchNormalization()\n",
        "        self.conv7 = tf.keras.layers.Conv2D(64, 1, padding='same', activation=None)\n",
        "        self.batch7 = tf.keras.layers.BatchNormalization()\n",
        "        self.conv8 = tf.keras.layers.Conv2D(128, 3, 2, padding='same', activation=None)\n",
        "        self.batch8 = tf.keras.layers.BatchNormalization()\n",
        "        self.conv9 = tf.keras.layers.Conv2D(256, 1, padding='same', activation=None)\n",
        "        self.batch9 = tf.keras.layers.BatchNormalization()\n",
        "        self.conv10 = tf.keras.layers.Conv2D(128, 3, 2, padding='same', activation=None)\n",
        "        self.conv11 = tf.keras.layers.Conv2D(256, 1, padding='same', activation=None)\n",
        "        self.batch11 = tf.keras.layers.BatchNormalization()\n",
        "        self.conv12 = tf.keras.layers.Conv2D(num_classes, 3, 2, padding='same', activation=None)\n",
        "        \n",
        "        # Define the device \n",
        "        self.device = device\n",
        "        \n",
        "        # Define the checkpoint directory\n",
        "        self.checkpoint_directory = checkpoint_directory\n",
        "       \n",
        "    def predict(self, images, training):\n",
        "        \"\"\" Predicts the probability of each class, based on the input sample.\n",
        "            \n",
        "            Args:\n",
        "                images: 4D tensor. Either an image or a batch of images.\n",
        "                training: Boolean. Either the network is predicting in\n",
        "                          training mode or not.\n",
        "        \"\"\"\n",
        "        x = self.conv1(images)\n",
        "        x = self.batch1(x, training=training)\n",
        "        x = self.conv2(x)\n",
        "        x = self.batch2(x, training=training)\n",
        "        x = tf.nn.relu(x)\n",
        "        x = self.conv3(x)\n",
        "        x = self.batch3(x, training=training)\n",
        "        x = self.conv4(x)\n",
        "        x = self.batch4(x, training=training)\n",
        "        x = tf.nn.relu(x)\n",
        "        x = self.conv5(x)\n",
        "        x = self.batch5(x, training=training)\n",
        "        x = self.conv6(x)\n",
        "        x = self.batch6(x, training=training)\n",
        "        x = tf.nn.relu(x)\n",
        "        x = self.conv7(x)\n",
        "        x = self.batch7(x, training=training)\n",
        "        x = self.conv8(x)\n",
        "        x = self.batch8(x, training=training)\n",
        "        x = tf.nn.relu(x)\n",
        "        x = self.conv9(x)\n",
        "        x = self.batch9(x, training=training)\n",
        "        x = self.conv10(x)\n",
        "        x = self.conv11(x)\n",
        "        x = self.batch11(x, training=training)\n",
        "        x = self.conv12(x)\n",
        "        x = tf.reshape(x, (-1, 1, 10))\n",
        "        #x = tf.keras.layers.Flatten(x)\n",
        "        #print(x.shape)\n",
        "        return x\n",
        "    \n",
        "    def loss_fn(self, images, target, training):\n",
        "        \"\"\" Defines the loss function used during \n",
        "            training.         \n",
        "        \"\"\"\n",
        "        preds = self.predict(images, training)\n",
        "        #print(preds.shape)\n",
        "        #print(target.shape)\n",
        "        loss = tf.nn.softmax_cross_entropy_with_logits(labels=target, logits=preds)\n",
        "        return loss\n",
        "    \n",
        "    def grads_fn(self, images, target, training):\n",
        "        \"\"\" Dynamically computes the gradients of the loss value\n",
        "            with respect to the parameters of the model, in each\n",
        "            forward pass.\n",
        "        \"\"\"\n",
        "        with tf.GradientTape() as tape:\n",
        "            loss = self.loss_fn(images, target, training)\n",
        "        return tape.gradient(loss, self.variables)\n",
        "    \n",
        "    def restore_model(self):\n",
        "        \"\"\" Function to restore trained model.\n",
        "        \"\"\"\n",
        "        with tf.device(self.device):\n",
        "            # Run the model once to initialize variables\n",
        "            dummy_input = tf.constant(tf.zeros((1,48,48,1)))\n",
        "            dummy_pred = self.predict(dummy_input, training=False)\n",
        "            # Restore the variables of the model\n",
        "            saver = tf.Saver(self.variables)\n",
        "            saver.restore(tf.train.latest_checkpoint\n",
        "                          (self.checkpoint_directory))\n",
        "    \n",
        "    def save_model(self, global_step=0):\n",
        "        \"\"\" Function to save trained model.\n",
        "        \"\"\"\n",
        "        tf.Saver(self.variables).save(self.checkpoint_directory, \n",
        "                                       global_step=global_step)   \n",
        "    \n",
        "    def compute_accuracy(self, input_data):\n",
        "        \"\"\" Compute the accuracy on the input data.\n",
        "        \"\"\"\n",
        "        with tf.device(self.device):\n",
        "            acc = tf.metrics.Accuracy()\n",
        "            for step ,(images, targets) in enumerate(input_data):\n",
        "                # Predict the probability of each class\n",
        "                print(targets.shape)\n",
        "                logits = self.predict(images, training=False)\n",
        "                # Select the class with the highest probability\n",
        "                print(logits.shape)\n",
        "                logits = tf.reshape(logits, [-1, 10])\n",
        "                preds = tf.argmax(logits, axis=1)\n",
        "                # Compute the accuracy\n",
        "                print(preds.shape)\n",
        "                acc(tf.reshape(targets, [-1,]), preds)\n",
        "        return acc\n",
        "        \n",
        "    def fit_fc(self, training_data, eval_data, optimizer, num_epochs=500, \n",
        "            early_stopping_rounds=10, verbose=10, train_from_scratch=False):\n",
        "        \"\"\" Function to train the model, using the selected optimizer and\n",
        "            for the desired number of epochs. You can either train from scratch\n",
        "            or load the latest model trained. Early stopping is used in order to\n",
        "            mitigate the risk of overfitting the network.\n",
        "            \n",
        "            Args:\n",
        "                training_data: the data you would like to train the model on.\n",
        "                                Must be in the tf.data.Dataset format.\n",
        "                eval_data: the data you would like to evaluate the model on.\n",
        "                            Must be in the tf.data.Dataset format.\n",
        "                optimizer: the optimizer used during training.\n",
        "                num_epochs: the maximum number of iterations you would like to \n",
        "                            train the model.\n",
        "                early_stopping_rounds: stop training if the loss on the eval \n",
        "                                       dataset does not decrease after n epochs.\n",
        "                verbose: int. Specify how often to print the loss value of the network.\n",
        "                train_from_scratch: boolean. Whether to initialize variables of the\n",
        "                                    the last trained model or initialize them\n",
        "                                    randomly.\n",
        "        \"\"\" \n",
        "    \n",
        "        if train_from_scratch==False:\n",
        "            self.restore_model()\n",
        "        \n",
        "        # Initialize best loss. This variable will store the lowest loss on the\n",
        "        # eval dataset.\n",
        "        best_loss = 999\n",
        "        \n",
        "        # Initialize classes to update the mean loss of train and eval\n",
        "        train_loss = tf.keras.metrics.Mean('train_loss')\n",
        "        eval_loss = tf.keras.metrics.Mean('eval_loss')\n",
        "        \n",
        "        # Initialize dictionary to store the loss history\n",
        "        self.history = {}\n",
        "        self.history['train_loss'] = []\n",
        "        self.history['eval_loss'] = []\n",
        "        \n",
        "        # Begin training\n",
        "        with tf.device(self.device):\n",
        "            for i in range(num_epochs):\n",
        "                # Training with gradient descent\n",
        "                for step, (images, target) in enumerate(training_data):\n",
        "                    grads = self.grads_fn(images, target, True)\n",
        "                    optimizer.apply_gradients(zip(grads, self.variables))\n",
        "                    \n",
        "                # Compute the loss on the training data after one epoch\n",
        "                for step, (images, target) in enumerate(training_data):\n",
        "                    loss = self.loss_fn(images, target, False)\n",
        "                    train_loss(loss)\n",
        "                self.history['train_loss'].append(train_loss.result().numpy())\n",
        "                # Reset metrics\n",
        "                train_loss.reset_states()\n",
        "                \n",
        "                # Compute the loss on the eval data after one epoch\n",
        "                for step, (images, target) in enumerate(eval_data):\n",
        "                    loss = self.loss_fn(images, target, False)\n",
        "                    eval_loss(loss)\n",
        "                self.history['eval_loss'].append(eval_loss.result().numpy())\n",
        "                # Reset metrics\n",
        "                eval_loss.reset_states()\n",
        "                \n",
        "                # Print train and eval losses\n",
        "                if (i==0) | ((i+1)%verbose==0):\n",
        "                    print('Train loss at epoch %d: ' %(i+1), self.history['train_loss'][-1])\n",
        "                    print('Eval loss at epoch %d: ' %(i+1), self.history['eval_loss'][-1])\n",
        "\n",
        "                # Check for early stopping\n",
        "                if self.history['eval_loss'][-1]<best_loss:\n",
        "                    best_loss = self.history['eval_loss'][-1]\n",
        "                    count = early_stopping_rounds\n",
        "                else:\n",
        "                    count -= 1\n",
        "                if count==0:\n",
        "                    break"
      ],
      "execution_count": 23,
      "outputs": []
    },
    {
      "cell_type": "code",
      "metadata": {
        "id": "fvmsRoDSzmxO"
      },
      "source": [
        "# Specify the path where you want to save/restore the trained variables.\n",
        "checkpoint_directory = 'models_checkpoints/mnist/'\n",
        "\n",
        "# Use the GPU if available.\n",
        "device = 'gpu:0'\n",
        "\n",
        "# Define optimizer.\n",
        "optimizer = tf.compat.v1.train.AdamOptimizer(learning_rate=1e-4)\n",
        "\n",
        "# Instantiate model. This doesn't initialize the variables yet.\n",
        "model = ImageRecognitionCNN(num_classes=10, device=device, \n",
        "                              checkpoint_directory=checkpoint_directory)\n",
        "\n",
        "#model = ImageRecognitionCNN(num_classes=7, device=device)"
      ],
      "execution_count": 24,
      "outputs": []
    },
    {
      "cell_type": "code",
      "metadata": {
        "colab": {
          "base_uri": "https://localhost:8080/"
        },
        "id": "jK3MjyN_2ZLv",
        "outputId": "492c5b48-01a4-45da-f790-6771b5dd2f8b"
      },
      "source": [
        "# Train model\n",
        "model.fit_fc(train_dataset, test_dataset, optimizer, num_epochs=10, \n",
        "          early_stopping_rounds=2, verbose=2, train_from_scratch=True)"
      ],
      "execution_count": 6,
      "outputs": [
        {
          "output_type": "stream",
          "text": [
            "Train loss at epoch 1:  0.138215\n",
            "Eval loss at epoch 1:  0.13550562\n",
            "Train loss at epoch 2:  0.04169017\n",
            "Eval loss at epoch 2:  0.052632973\n",
            "Train loss at epoch 4:  0.018545043\n",
            "Eval loss at epoch 4:  0.039416026\n",
            "Train loss at epoch 6:  0.009227915\n",
            "Eval loss at epoch 6:  0.035779044\n",
            "Train loss at epoch 8:  0.012281994\n",
            "Eval loss at epoch 8:  0.04949995\n"
          ],
          "name": "stdout"
        }
      ]
    },
    {
      "cell_type": "code",
      "metadata": {
        "colab": {
          "base_uri": "https://localhost:8080/",
          "height": 302
        },
        "id": "DVCpC8ngfBwi",
        "outputId": "c06884b7-99cd-4265-cd94-331237f962bf"
      },
      "source": [
        "plt.plot(range(len(model.history['train_loss'])), model.history['train_loss'],\n",
        "         color='b', label='Train loss');\n",
        "plt.plot(range(len(model.history['eval_loss'])), model.history['eval_loss'], \n",
        "         color='r', label='Dev loss');\n",
        "plt.title('Model performance during training', fontsize=15)\n",
        "plt.xlabel('Number of epochs', fontsize=15);\n",
        "plt.ylabel('Loss', fontsize=15);\n",
        "plt.legend(fontsize=15);"
      ],
      "execution_count": 7,
      "outputs": [
        {
          "output_type": "display_data",
          "data": {
            "image/png": "[encoded data removed]",
            "text/plain": [
              "<Figure size 432x288 with 1 Axes>"
            ]
          },
          "metadata": {
            "tags": [],
            "needs_background": "light"
          }
        }
      ]
    },
    {
      "cell_type": "markdown",
      "metadata": {
        "id": "kid0WaRElm7i"
      },
      "source": [
        "# Assignment 01000\n",
        "# Integrated gradients\n",
        "In this assignment you will implement integrated gradients and write a visualization script to show comparsion between integrated gradients and derivative based approach.\n",
        "All experiments should be conducted on FashionMNIST dataset or above (cifar10, cifar100).\n",
        "\n",
        "Normally for derivated based approach our first attempt would be to understand the predictions of your model by directly computing the derivative of the output class with respect to the image. This is very basic step and can give you a hint on which part of the image activated the network. However, this technique is believed to be sensitive to image artifacts.\n",
        "\n",
        "To avoid this we are going to use integrated gradients to compute the attributions of the network for a certain image. Especially you are required to look at formulation provided in main equation 3. Students are advised to read the main article and try implementing the function.\n",
        "[Integrated Gradient](http://proceedings.mlr.press/v70/sundararajan17a/sundararajan17a.pdf)\n",
        "\n",
        "This assignment might serve as first step towards understanding prediction our your convolution neural network.\n",
        "\n",
        "In short things to do in this assignment.\n",
        "\n",
        "* You will use our above codebase and adjust the number of hidden layers (minimum number of hidden layers > 2), you will report various model performance (accuracy and loss). You will experiment with minimum 3 models, in other model1 shallower model might contain 3 hidden layers, model 2 might contain 4 hidden layers and so on. \n",
        "* Take top 5 images and compare integrated gradients with gradients at the image (Look at figure 2 in [Integrated Gradient](http://proceedings.mlr.press/v70/sundararajan17a/sundararajan17a.pdf))\n",
        "* In short you will have 15 figures, 5 per model.\n",
        "* Report your findings\n",
        "\n",
        "Extra things to try for better understanding of CNN's\n",
        "* Do you think adding more layers is always beneficial ?\n",
        "* Fixed learning vs dynamic rating\n",
        "* Play with activation function such as elu, relu6, leakyrelu.\n",
        "* Play with optimizers.\n",
        "* Play with kernel size, output_channel.\n"
      ]
    }
  ]
}
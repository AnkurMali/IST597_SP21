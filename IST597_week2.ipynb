{
  "nbformat": 4,
  "nbformat_minor": 0,
  "metadata": {
    "colab": {
      "name": "IST597_week2.ipynb",
      "provenance": [],
      "collapsed_sections": [],
      "include_colab_link": true
    },
    "kernelspec": {
      "name": "python3",
      "display_name": "Python 3"
    },
    "accelerator": "GPU"
  },
  "cells": [
    {
      "cell_type": "markdown",
      "metadata": {
        "id": "view-in-github",
        "colab_type": "text"
      },
      "source": [
        "<a href=\"https://colab.research.google.com/github/AnkurMali/IST597_SP21/blob/main/IST597_week2.ipynb\" target=\"_parent\"><img src=\"https://colab.research.google.com/assets/colab-badge.svg\" alt=\"Open In Colab\"/></a>"
      ]
    },
    {
      "cell_type": "markdown",
      "metadata": {
        "id": "M7r1fJQniHj7"
      },
      "source": [
        "# Tutorial IST597:- Intro to Eager Execution"
      ]
    },
    {
      "cell_type": "markdown",
      "metadata": {
        "id": "CiwZoGf85dnU"
      },
      "source": [
        "# Enabling Eager Execution \n",
        "In version 2.0 and above eager execution is set TRUE by default.For all other versions $<1.7$ (if working on outdated server) enable using tf.enable_eager_execution() "
      ]
    },
    {
      "cell_type": "code",
      "metadata": {
        "id": "jlnQG8hC-uCg"
      },
      "source": [
        "import tensorflow as tf\n",
        "\n",
        "# tf.enable_eager_execution() # Only use if TF < 2.0"
      ],
      "execution_count": 1,
      "outputs": []
    },
    {
      "cell_type": "markdown",
      "metadata": {
        "id": "8Fq5Gb135Z5f"
      },
      "source": [
        "Check if eager execution is enabled or not"
      ]
    },
    {
      "cell_type": "code",
      "metadata": {
        "id": "kS7er1hy-7yO",
        "colab": {
          "base_uri": "https://localhost:8080/",
          "height": 37
        },
        "outputId": "1a82ed60-d2c8-48b4-e655-8f715c9915d2"
      },
      "source": [
        "tf.executing_eagerly()\n",
        "tf.__version__"
      ],
      "execution_count": 2,
      "outputs": [
        {
          "output_type": "execute_result",
          "data": {
            "application/vnd.google.colaboratory.intrinsic+json": {
              "type": "string"
            },
            "text/plain": [
              "'2.4.1'"
            ]
          },
          "metadata": {
            "tags": []
          },
          "execution_count": 2
        }
      ]
    },
    {
      "cell_type": "markdown",
      "metadata": {
        "id": "UC6X5Y844_E-"
      },
      "source": [
        "# Executing tf Ops Eagerly \n",
        "More pythonic : Since by perfoming operations we can see the output directly.\n",
        "No Session or sess.run(operation)"
      ]
    },
    {
      "cell_type": "code",
      "metadata": {
        "id": "DmwZJKlA_B15",
        "colab": {
          "base_uri": "https://localhost:8080/",
          "height": 0
        },
        "outputId": "2c0067f1-c5fb-4399-ff4b-0597d8fb9818"
      },
      "source": [
        "x = [[2.]]\n",
        "m = tf.square(x)\n",
        "print(m)"
      ],
      "execution_count": 3,
      "outputs": [
        {
          "output_type": "stream",
          "text": [
            "tf.Tensor([[4.]], shape=(1, 1), dtype=float32)\n"
          ],
          "name": "stdout"
        }
      ]
    },
    {
      "cell_type": "markdown",
      "metadata": {
        "id": "WGLoIPrQ6ZYT"
      },
      "source": [
        "Also can call `.numpy` to retrieve the results of the tensor as a numpy array (Useful for people who are familiar with pytorch or numpy)."
      ]
    },
    {
      "cell_type": "code",
      "metadata": {
        "id": "-FGFGbZq6fRo",
        "colab": {
          "base_uri": "https://localhost:8080/",
          "height": 0
        },
        "outputId": "a73950e9-b812-4c50-828f-07fe2d48dd77"
      },
      "source": [
        "m.numpy()"
      ],
      "execution_count": 4,
      "outputs": [
        {
          "output_type": "execute_result",
          "data": {
            "text/plain": [
              "array([[4.]], dtype=float32)"
            ]
          },
          "metadata": {
            "tags": []
          },
          "execution_count": 4
        }
      ]
    },
    {
      "cell_type": "markdown",
      "metadata": {
        "id": "l9Xlu7in6m22"
      },
      "source": [
        "compute an operation including two tensors "
      ]
    },
    {
      "cell_type": "code",
      "metadata": {
        "id": "d4tKJJ90_QMM",
        "colab": {
          "base_uri": "https://localhost:8080/",
          "height": 0
        },
        "outputId": "05ade106-d5b4-4da7-a95f-81bd1dc128fb"
      },
      "source": [
        "a = tf.constant([[1, 2],\n",
        "                 [3, 4]])\n",
        "\n",
        "b = tf.constant([[2, 1],\n",
        "                 [3, 4]])\n",
        "\n",
        "ab = tf.matmul(a, b)\n",
        "\n",
        "print('a * b = \\n', ab.numpy())"
      ],
      "execution_count": 5,
      "outputs": [
        {
          "output_type": "stream",
          "text": [
            "a * b = \n",
            " [[ 8  9]\n",
            " [18 19]]\n"
          ],
          "name": "stdout"
        }
      ]
    },
    {
      "cell_type": "markdown",
      "metadata": {
        "id": "V5qlVJygETcb"
      },
      "source": [
        "# Constants and Variables [Try to understand the difference between two]\n",
        "\n",
        "\n",
        "*   `tf.constant`, creates a constant tensor populated with the values as argument. The values are immutable. \n",
        "*   `tf.Variable `, this method encapsultes a mutable tensor that can be changed later using assign. \n",
        "(From official tensorflow documentation.)\n"
      ]
    },
    {
      "cell_type": "markdown",
      "metadata": {
        "id": "ayMVXFj1FZxz"
      },
      "source": [
        "Create a constant tensor "
      ]
    },
    {
      "cell_type": "code",
      "metadata": {
        "id": "g2KFQKSLFNlS",
        "colab": {
          "base_uri": "https://localhost:8080/",
          "height": 0
        },
        "outputId": "f94ead6d-5255-4131-eab8-fa8e7da57fda"
      },
      "source": [
        "a = tf.constant([[2,3]])\n",
        "print(a)"
      ],
      "execution_count": 6,
      "outputs": [
        {
          "output_type": "stream",
          "text": [
            "tf.Tensor([[2 3]], shape=(1, 2), dtype=int32)\n"
          ],
          "name": "stdout"
        }
      ]
    },
    {
      "cell_type": "markdown",
      "metadata": {
        "id": "mn8uX4t5FtHp"
      },
      "source": [
        "As we discussed constant tensor is immutable so we cannot assign a new value to it. Let's see an example for this"
      ]
    },
    {
      "cell_type": "code",
      "metadata": {
        "id": "xrJqeZfgHU-j",
        "colab": {
          "base_uri": "https://localhost:8080/",
          "height": 0
        },
        "outputId": "46793cfb-2d53-4582-b930-97681592d3c4"
      },
      "source": [
        "try:\n",
        "  a.assign([[3,4]])\n",
        "except:\n",
        "  print('Exception raised trying to change immutable tensor ')"
      ],
      "execution_count": 7,
      "outputs": [
        {
          "output_type": "stream",
          "text": [
            "Exception raised trying to change immutable tensor \n"
          ],
          "name": "stdout"
        }
      ]
    },
    {
      "cell_type": "markdown",
      "metadata": {
        "id": "lrgbhCu8H3rm"
      },
      "source": [
        "On the other hand variables are mutable and can be assigned a new value"
      ]
    },
    {
      "cell_type": "code",
      "metadata": {
        "id": "WSMIotOQFw2F",
        "colab": {
          "base_uri": "https://localhost:8080/",
          "height": 0
        },
        "outputId": "d149870f-3b5a-4eed-d592-0d2e833a32a0"
      },
      "source": [
        "v = tf.Variable(5.)\n",
        "\n",
        "print('previous value v =', v.numpy())\n",
        "v.assign(2.)\n",
        "print('Current value v =', v.numpy())"
      ],
      "execution_count": 8,
      "outputs": [
        {
          "output_type": "stream",
          "text": [
            "previous value v = 5.0\n",
            "Current value v = 2.0\n"
          ],
          "name": "stdout"
        }
      ]
    },
    {
      "cell_type": "markdown",
      "metadata": {
        "id": "se0MFrEwMXWo"
      },
      "source": [
        "increment/decrement the value of a tensor "
      ]
    },
    {
      "cell_type": "code",
      "metadata": {
        "id": "d9M50PpdMzEn",
        "colab": {
          "base_uri": "https://localhost:8080/",
          "height": 0
        },
        "outputId": "38a65e4d-4871-4ebd-d477-8883f6feea10"
      },
      "source": [
        "v.assign(2.)\n",
        "print('value     : ', v.numpy())\n",
        "print('increment : ', tf.math.add(v, 1).numpy())\n",
        "print('decrement : ', tf.math.subtract(v, 1).numpy())"
      ],
      "execution_count": 9,
      "outputs": [
        {
          "output_type": "stream",
          "text": [
            "value     :  2.0\n",
            "increment :  3.0\n",
            "decrement :  1.0\n"
          ],
          "name": "stdout"
        }
      ]
    },
    {
      "cell_type": "code",
      "metadata": {
        "colab": {
          "base_uri": "https://localhost:8080/",
          "height": 0
        },
        "id": "LLlbAcRLbizw",
        "outputId": "2244de94-a1fb-4d6d-bc47-c2c8fa8ef6f9"
      },
      "source": [
        "v2 = tf.Variable(15.)\n",
        "v2.assign(2.)\n",
        "print('value     : ', v2.numpy())\n",
        "print('increment : ', tf.compat.v1.assign_add(v2, 1).numpy())\n",
        "print('decrement : ', tf.compat.v1.assign_sub(v2, 1).numpy())"
      ],
      "execution_count": 10,
      "outputs": [
        {
          "output_type": "stream",
          "text": [
            "value     :  2.0\n",
            "increment :  3.0\n",
            "decrement :  2.0\n"
          ],
          "name": "stdout"
        }
      ]
    },
    {
      "cell_type": "markdown",
      "metadata": {
        "id": "FtGAYUUWI8bX"
      },
      "source": [
        "You can return many information from a tensor variable same as numpy, like name, type, shape and system device function is executed on. "
      ]
    },
    {
      "cell_type": "code",
      "metadata": {
        "id": "2wQMtx3QJBSg",
        "colab": {
          "base_uri": "https://localhost:8080/",
          "height": 0
        },
        "outputId": "7207a9d8-c20b-4292-85db-31d6fb2af0c9"
      },
      "source": [
        "print('name  : ', v.name)\n",
        "print('type  : ', v.dtype)\n",
        "print('shape : ', v.shape)\n",
        "print('device: ', v.device)"
      ],
      "execution_count": 11,
      "outputs": [
        {
          "output_type": "stream",
          "text": [
            "name  :  Variable:0\n",
            "type  :  <dtype: 'float32'>\n",
            "shape :  ()\n",
            "device:  /job:localhost/replica:0/task:0/device:GPU:0\n"
          ],
          "name": "stdout"
        }
      ]
    },
    {
      "cell_type": "markdown",
      "metadata": {
        "id": "5irSm-yDN0nV"
      },
      "source": [
        "# Gradient Evaluation[Imp Concept]"
      ]
    },
    {
      "cell_type": "markdown",
      "metadata": {
        "id": "y36ig_TVAAoM"
      },
      "source": [
        "Gradient evaluation is important in evaluating our deep learning model. It based on function optimization and will provide true gradients for your model. You can use `tf.GradientTape()` method to record the gradient of any valid arbitrary function"
      ]
    },
    {
      "cell_type": "code",
      "metadata": {
        "id": "bdZmXyAi_3M3",
        "colab": {
          "base_uri": "https://localhost:8080/",
          "height": 0
        },
        "outputId": "78df7f58-741f-405e-de19-228c6bfaeab3"
      },
      "source": [
        "w = tf.Variable(2.0)\n",
        "\n",
        "#watch the gradient of the loss operation\n",
        "with tf.GradientTape() as tape:\n",
        "  loss = w * w\n",
        "\n",
        "grad = tape.gradient(loss, w)\n",
        "print(f'The gradient of w^2 at {w.numpy()} is {grad.numpy()}')"
      ],
      "execution_count": 12,
      "outputs": [
        {
          "output_type": "stream",
          "text": [
            "The gradient of w^2 at 2.0 is 4.0\n"
          ],
          "name": "stdout"
        }
      ]
    },
    {
      "cell_type": "markdown",
      "metadata": {
        "id": "qEMEMfV8Pwvt"
      },
      "source": [
        "We can also compute the gradient of the function using tape. In this example we evaluate the gradient of the sigmoid function \n",
        "\n",
        "$$f(x) = \\frac{1}{1+e^{-x}}$$\n",
        "\n",
        "Note that \n",
        "\n",
        "$$f'(x) = \\frac{e^{-x}}{(1+e^{-x})^2} = f(x)(1-f(x)) $$"
      ]
    },
    {
      "cell_type": "code",
      "metadata": {
        "id": "nrw-DuoWP0A6",
        "colab": {
          "base_uri": "https://localhost:8080/",
          "height": 0
        },
        "outputId": "d0b0c2f0-795a-4540-ebcd-de6e6a2f1064"
      },
      "source": [
        "w = tf.Variable(2.0)\n",
        "z = 1/(1 + tf.exp(-2.0))\n",
        "print(z) # Print value of your function\n",
        "@tf.function\n",
        "def sigmoid(x):\n",
        "  return 1/(1 + tf.exp(-x))\n",
        "print(tf.math.sigmoid(2.0)) # Check with inbuilt function\n",
        "with tf.GradientTape(persistent=True) as tape:\n",
        "  sigmoid_value = sigmoid(w)\n",
        "grad_sigmoid = tape.gradient(sigmoid_value, w)\n",
        "print('The gradient of the sigmoid function at 2.0 is ', grad_sigmoid.numpy())"
      ],
      "execution_count": 13,
      "outputs": [
        {
          "output_type": "stream",
          "text": [
            "tf.Tensor(0.880797, shape=(), dtype=float32)\n",
            "tf.Tensor(0.880797, shape=(), dtype=float32)\n",
            "The gradient of the sigmoid function at 2.0 is  0.104993574\n"
          ],
          "name": "stdout"
        }
      ]
    },
    {
      "cell_type": "markdown",
      "metadata": {
        "id": "Jew_BsZaYeVz"
      },
      "source": [
        "You can also compute higher order derivatives by nesting a gradient functions or gradient tape. For instance, \n",
        "\n",
        "$$f(x) = \\log(x) , f'(x) = \\frac{1}{x}, f''(x) = \\frac{-1}{x^2}$$"
      ]
    },
    {
      "cell_type": "code",
      "metadata": {
        "id": "UoFFIr_AXUnm",
        "colab": {
          "base_uri": "https://localhost:8080/",
          "height": 0
        },
        "outputId": "17d7ca50-fff2-4bc3-b8b7-1dea1f618796"
      },
      "source": [
        "x = tf.Variable(1.0)\n",
        "@tf.function\n",
        "def log(x):\n",
        "  return tf.math.log(x)\n",
        "with tf.GradientTape(persistent=True) as tape3:\n",
        "  with tf.GradientTape(persistent=True) as tape2:\n",
        "    with tf.GradientTape(persistent=True) as tape1:\n",
        "      dx = log(x)\n",
        "    dx_log = tape1.gradient(dx, x)\n",
        "  dx2_log = tape2.gradient(dx_log, x )\n",
        "dx3_log = tape3.gradient(dx2_log, x)\n",
        "\n",
        "print('The first  derivative of log at x = 1 is ', dx_log.numpy())\n",
        "print('The second derivative of log at x = 1 is ', dx2_log.numpy())\n",
        "print('The third  derivative of log at x = 1 is ', dx3_log.numpy())"
      ],
      "execution_count": 14,
      "outputs": [
        {
          "output_type": "stream",
          "text": [
            "The first  derivative of log at x = 1 is  1.0\n",
            "The second derivative of log at x = 1 is  -1.0\n",
            "The third  derivative of log at x = 1 is  2.0\n"
          ],
          "name": "stdout"
        }
      ]
    },
    {
      "cell_type": "markdown",
      "metadata": {
        "id": "hBVnUE6DRDFw"
      },
      "source": [
        "# Custom Gradients\n",
        "\n",
        "Some times the gradient is not what we want espeically if there is a problem in numerical instabilitiy. Consider the following function and its gradient \n",
        "\n",
        "$$f(x) = \\log(1+e^x)$$\n",
        "\n",
        "The gradient is \n",
        "\n",
        "$$f'(x) = \\frac{e^x}{1+e^x}$$\n",
        "\n",
        "Note that at big values of $x$ the gradient value will blow up."
      ]
    },
    {
      "cell_type": "code",
      "metadata": {
        "id": "autHEivlRp9M",
        "colab": {
          "base_uri": "https://localhost:8080/",
          "height": 0
        },
        "outputId": "a3f3ccdf-8bc3-4435-db4c-d92b14d30182"
      },
      "source": [
        "x = tf.Variable(1.0)\n",
        "x1 = tf.Variable(100.0)\n",
        "@tf.function\n",
        "def logexp(x):\n",
        "  return tf.math.log(1 + tf.exp(x))\n",
        "with tf.GradientTape(persistent=True) as tape:\n",
        "  grad_value = logexp(x)\n",
        "  grad_value2 = logexp(x1)\n",
        "grad_logexp = tape.gradient(grad_value, x)\n",
        "grad_logexp2 = tape.gradient(grad_value2, x1)\n",
        "print('The gradient at x = 0  is ', grad_logexp.numpy())  \n",
        "\n",
        "print('The gradient at x1 = 100 is ', grad_logexp2.numpy()) "
      ],
      "execution_count": 15,
      "outputs": [
        {
          "output_type": "stream",
          "text": [
            "The gradient at x = 0  is  0.7310586\n",
            "The gradient at x1 = 100 is  nan\n"
          ],
          "name": "stdout"
        }
      ]
    },
    {
      "cell_type": "markdown",
      "metadata": {
        "id": "c19m7XawUR1a"
      },
      "source": [
        " We can revaluate the gradient by overriding the gradient of the function. We can recompute the gradient as \n",
        "\n",
        "$$f(x) =  \\frac{1+e^x -e^x }{1+e^x} = 1 - \\frac{1}{1 + e^{x}}$$"
      ]
    },
    {
      "cell_type": "code",
      "metadata": {
        "id": "EmPT2S6XUJ8C",
        "colab": {
          "base_uri": "https://localhost:8080/",
          "height": 0
        },
        "outputId": "eceac5eb-a271-4c48-e856-583ba27b3a4c"
      },
      "source": [
        "x = tf.Variable(1.0)\n",
        "x1 = tf.Variable(100.0)\n",
        "@tf.custom_gradient\n",
        "def logexp_stable(x):\n",
        "  e = tf.exp(x)\n",
        "  #dy is optional, allows computation of vector jacobian products for vectors other than the vector of ones.\n",
        "  def grad(dy):\n",
        "    return dy * (1 - 1 / (1 + e))\n",
        "  return tf.math.log(1 + e), grad\n",
        "with tf.GradientTape(persistent=True) as tape:\n",
        "  grad_value = logexp_stable(x)\n",
        "  grad_value2 = logexp_stable(x1)\n",
        "grad_logexp_stable = tape.gradient(grad_value, x)\n",
        "grad_logexp_stable1 = tape.gradient(grad_value2, x1)\n",
        "\n",
        "print('The gradient at x = 1 is ', grad_logexp_stable.numpy()) \n",
        "print('The gradient at x1 = 100 is ', grad_logexp_stable1.numpy()) "
      ],
      "execution_count": 16,
      "outputs": [
        {
          "output_type": "stream",
          "text": [
            "The gradient at x = 1 is  0.7310586\n",
            "The gradient at x1 = 100 is  1.0\n"
          ],
          "name": "stdout"
        }
      ]
    }
  ]
}